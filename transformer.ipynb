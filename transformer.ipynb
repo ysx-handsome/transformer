{
 "cells": [
  {
   "cell_type": "code",
   "execution_count": 89,
   "metadata": {},
   "outputs": [],
   "source": [
    "import pandas as pd\n",
    "import numpy as np\n",
    "from datasets import Dataset, DatasetDict\n",
    "from functools import lru_cache\n"
   ]
  },
  {
   "cell_type": "code",
   "execution_count": 60,
   "metadata": {},
   "outputs": [],
   "source": [
    "#数据读入与处理\n",
    "df=pd.read_csv(\"/Users/hanqiyu/Desktop/9.6崭新的数据_含档位/transformer/1_数据输入.csv\")\n",
    "df['日期'] = pd.to_datetime(df['日期'])\n",
    "df=df.drop(columns=['油站名称','油品名称'])\n",
    "# 定义一个用于计算第一个非空值的函数\n",
    "first = lambda x: x.iloc[0]\n",
    "# 定义聚合函数\n",
    "aggregation_functions = {\n",
    "    '油站编码': first,\n",
    "    '油品编码': first,\n",
    "    '日期': first,\n",
    "    '历史销量': 'sum',\n",
    "    '当天温度': 'mean',\n",
    "    '当天油价': 'mean',\n",
    "    '节假日': first,\n",
    "    '当时天气': first\n",
    "}\n",
    "result_df = df.groupby(['油站编码', '油品编码', '日期'], as_index=False).agg(aggregation_functions)\n",
    "result_df['item_id'] = result_df.apply(lambda row: f\"{row['油站编码']}_{row['油品编码']}\", axis=1)\n",
    "item_id_counts = result_df['item_id'].value_counts()\n",
    "\n",
    "train_df = result_df[result_df['日期'] < '2023-06-01']\n",
    "validation_df = result_df[result_df['日期'] < '2023-06-15']#验证集比训练集多15天\n",
    "test_df = result_df#测试集比训练集多30天\n",
    "\n",
    "def create_samples(df):\n",
    "    grouped = df.groupby(['油站编码', '油品编码'])\n",
    "    samples = []\n",
    "    for (station_code, product_code), group in grouped:\n",
    "        sample = {\n",
    "            'start': group['日期'].min().strftime('%Y-%m-%d'), \n",
    "            'target': group['历史销量'].tolist(),\n",
    "            'feat_static_cat': [],\n",
    "            'feat_dynamic_real': [group['当天温度'].tolist(), group['当天油价'].tolist()], \n",
    "            #, group['节假日'].tolist(), group['当时天气'].tolist()   这些非字符串的动态的变量先放放，后面再弄\n",
    "            'item_id': f\"{station_code}_{product_code}\"\n",
    "        }\n",
    "        samples.append(sample)\n",
    "    return samples\n",
    "\n",
    "# 使用 create_samples 函数创建样本集\n",
    "train_samples = create_samples(train_df)\n",
    "validation_samples = create_samples(validation_df)\n",
    "test_samples = create_samples(test_df)\n",
    "\n",
    "# 创建 DatasetDict\n",
    "dataset_dict = DatasetDict({\n",
    "    'train': Dataset.from_pandas(pd.DataFrame(train_samples)),\n",
    "    'test': Dataset.from_pandas(pd.DataFrame(test_samples)),\n",
    "    'validation': Dataset.from_pandas(pd.DataFrame(validation_samples)),\n",
    "})\n",
    "\n",
    "#小小的绘图技巧，送给大家\n",
    "# import matplotlib.pyplot as plt\n",
    "# train_example=dataset_dict['train'][0]\n",
    "# validation_example = dataset_dict['validation'][0]\n",
    "# figure, axes = plt.subplots()\n",
    "# axes.plot(train_example[\"target\"], color=\"blue\")\n",
    "# axes.plot(validation_example[\"target\"], color=\"red\", alpha=0.5)\n",
    "# plt.show()\n",
    "\n",
    "#简单的绘图技巧，送给大家\n",
    "# import matplotlib.pyplot as plt\n",
    "# df111=df[(df['油站编码']=='MD0B')&(df['油品名称']=='0号 车用柴油(Ⅵ)')]\n",
    "# print(len(df111))\n",
    "# figure, axes = plt.subplots()\n",
    "# axes.plot(df111[\"历史销量\"], color=\"blue\")\n",
    "# plt.show()\n"
   ]
  },
  {
   "cell_type": "code",
   "execution_count": 83,
   "metadata": {},
   "outputs": [],
   "source": []
  },
  {
   "cell_type": "code",
   "execution_count": null,
   "metadata": {},
   "outputs": [],
   "source": []
  }
 ],
 "metadata": {
  "kernelspec": {
   "display_name": "Python 3",
   "language": "python",
   "name": "python3"
  },
  "language_info": {
   "codemirror_mode": {
    "name": "ipython",
    "version": 3
   },
   "file_extension": ".py",
   "mimetype": "text/x-python",
   "name": "python",
   "nbconvert_exporter": "python",
   "pygments_lexer": "ipython3",
   "version": "3.9.6"
  },
  "orig_nbformat": 4
 },
 "nbformat": 4,
 "nbformat_minor": 2
}
